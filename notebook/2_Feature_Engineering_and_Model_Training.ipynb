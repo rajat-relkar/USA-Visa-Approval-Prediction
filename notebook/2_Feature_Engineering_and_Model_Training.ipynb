{
  "cells": [
    {
      "cell_type": "markdown",
      "id": "4437a980",
      "metadata": {
        "id": "4437a980"
      },
      "source": [
        "# Data Pre-Processing"
      ]
    },
    {
      "cell_type": "markdown",
      "id": "74b4d7e0",
      "metadata": {
        "id": "74b4d7e0"
      },
      "source": [
        "#### Import Packages and CSV"
      ]
    },
    {
      "cell_type": "code",
      "execution_count": 1,
      "id": "5530cc59",
      "metadata": {
        "id": "5530cc59",
        "outputId": "5fa0529c-5adf-480a-b56f-116e14b8514e"
      },
      "outputs": [
        {
          "name": "stdout",
          "output_type": "stream",
          "text": [
            "(25480, 12)\n"
          ]
        }
      ],
      "source": [
        "import pandas as pd\n",
        "import numpy as np\n",
        "import matplotlib.pyplot as plt\n",
        "import seaborn as sns\n",
        "import warnings\n",
        "warnings.filterwarnings(\"ignore\")\n",
        "pd.pandas.set_option(\"display.max_columns\", None)\n",
        "# Create Dataframe\n",
        "df = pd.read_csv(r\"EasyVisa.csv\")\n",
        "# Print shape of dataset\n",
        "print(df.shape)"
      ]
    },
    {
      "cell_type": "markdown",
      "id": "c27265bd",
      "metadata": {
        "id": "c27265bd"
      },
      "source": [
        "## Data Cleaning"
      ]
    },
    {
      "cell_type": "markdown",
      "id": "dbad805a",
      "metadata": {
        "id": "dbad805a"
      },
      "source": [
        "### Handling Missing values"
      ]
    },
    {
      "cell_type": "markdown",
      "id": "0a0c1c0d",
      "metadata": {
        "id": "0a0c1c0d"
      },
      "source": [
        "* Handling Missing values \n",
        "* Handling Duplicates\n",
        "* Check data type\n",
        "* Understand the dataset"
      ]
    },
    {
      "cell_type": "markdown",
      "id": "40b4a428",
      "metadata": {
        "id": "40b4a428"
      },
      "source": [
        "#### Check Null Values"
      ]
    },
    {
      "cell_type": "code",
      "execution_count": 2,
      "id": "2b94aa8f",
      "metadata": {
        "id": "2b94aa8f"
      },
      "outputs": [],
      "source": [
        "##these are the features with nan value\n",
        "features_with_na=[features for features in df.columns if df[features].isnull().sum()>=1]\n",
        "for feature in features_with_na:\n",
        "    print(feature,np.round(df[feature].isnull().mean()*100,5), '% missing values')"
      ]
    },
    {
      "cell_type": "code",
      "execution_count": 3,
      "id": "f08d8e60",
      "metadata": {},
      "outputs": [
        {
          "data": {
            "text/plain": [
              "[]"
            ]
          },
          "execution_count": 3,
          "metadata": {},
          "output_type": "execute_result"
        }
      ],
      "source": [
        "features_with_na"
      ]
    },
    {
      "cell_type": "markdown",
      "id": "31bb11b3",
      "metadata": {
        "id": "31bb11b3"
      },
      "source": [
        "* **There are no null values in the dataset**"
      ]
    },
    {
      "cell_type": "markdown",
      "id": "76eafe12",
      "metadata": {
        "id": "76eafe12"
      },
      "source": [
        "### 3.2 Other Data Cleaning steps"
      ]
    },
    {
      "cell_type": "markdown",
      "id": "471fd48f",
      "metadata": {
        "id": "471fd48f"
      },
      "source": [
        "**Handling Duplicates**"
      ]
    },
    {
      "cell_type": "code",
      "execution_count": 4,
      "id": "d8fa17e0",
      "metadata": {
        "id": "d8fa17e0",
        "outputId": "7f1d6a37-65e2-4b4f-f201-69b9c3a80150"
      },
      "outputs": [
        {
          "data": {
            "text/plain": [
              "np.int64(0)"
            ]
          },
          "execution_count": 4,
          "metadata": {},
          "output_type": "execute_result"
        }
      ],
      "source": [
        "df.duplicated().sum()"
      ]
    },
    {
      "cell_type": "markdown",
      "id": "3f574d4c",
      "metadata": {
        "id": "3f574d4c"
      },
      "source": [
        "* **No Duplicates in the dataset**"
      ]
    },
    {
      "cell_type": "markdown",
      "id": "5cf6d275",
      "metadata": {
        "id": "5cf6d275"
      },
      "source": [
        "**Remove case_id from the dataset as it cannot used in Model Training**"
      ]
    },
    {
      "cell_type": "code",
      "execution_count": 5,
      "id": "828c0a89",
      "metadata": {
        "id": "828c0a89"
      },
      "outputs": [],
      "source": [
        "df.drop('case_id', inplace=True, axis=1)"
      ]
    },
    {
      "cell_type": "markdown",
      "id": "6d48a184",
      "metadata": {
        "id": "6d48a184"
      },
      "source": [
        "# Feature Engineering"
      ]
    },
    {
      "cell_type": "markdown",
      "id": "8453d379",
      "metadata": {
        "id": "8453d379"
      },
      "source": [
        "## Feature Extraction"
      ]
    },
    {
      "cell_type": "code",
      "execution_count": 6,
      "id": "40ec4ef6",
      "metadata": {},
      "outputs": [
        {
          "data": {
            "text/html": [
              "<div>\n",
              "<style scoped>\n",
              "    .dataframe tbody tr th:only-of-type {\n",
              "        vertical-align: middle;\n",
              "    }\n",
              "\n",
              "    .dataframe tbody tr th {\n",
              "        vertical-align: top;\n",
              "    }\n",
              "\n",
              "    .dataframe thead th {\n",
              "        text-align: right;\n",
              "    }\n",
              "</style>\n",
              "<table border=\"1\" class=\"dataframe\">\n",
              "  <thead>\n",
              "    <tr style=\"text-align: right;\">\n",
              "      <th></th>\n",
              "      <th>continent</th>\n",
              "      <th>education_of_employee</th>\n",
              "      <th>has_job_experience</th>\n",
              "      <th>requires_job_training</th>\n",
              "      <th>no_of_employees</th>\n",
              "      <th>yr_of_estab</th>\n",
              "      <th>region_of_employment</th>\n",
              "      <th>prevailing_wage</th>\n",
              "      <th>unit_of_wage</th>\n",
              "      <th>full_time_position</th>\n",
              "      <th>case_status</th>\n",
              "    </tr>\n",
              "  </thead>\n",
              "  <tbody>\n",
              "    <tr>\n",
              "      <th>0</th>\n",
              "      <td>Asia</td>\n",
              "      <td>High School</td>\n",
              "      <td>N</td>\n",
              "      <td>N</td>\n",
              "      <td>14513</td>\n",
              "      <td>2007</td>\n",
              "      <td>West</td>\n",
              "      <td>592.2029</td>\n",
              "      <td>Hour</td>\n",
              "      <td>Y</td>\n",
              "      <td>Denied</td>\n",
              "    </tr>\n",
              "    <tr>\n",
              "      <th>1</th>\n",
              "      <td>Asia</td>\n",
              "      <td>Master's</td>\n",
              "      <td>Y</td>\n",
              "      <td>N</td>\n",
              "      <td>2412</td>\n",
              "      <td>2002</td>\n",
              "      <td>Northeast</td>\n",
              "      <td>83425.6500</td>\n",
              "      <td>Year</td>\n",
              "      <td>Y</td>\n",
              "      <td>Certified</td>\n",
              "    </tr>\n",
              "    <tr>\n",
              "      <th>2</th>\n",
              "      <td>Asia</td>\n",
              "      <td>Bachelor's</td>\n",
              "      <td>N</td>\n",
              "      <td>Y</td>\n",
              "      <td>44444</td>\n",
              "      <td>2008</td>\n",
              "      <td>West</td>\n",
              "      <td>122996.8600</td>\n",
              "      <td>Year</td>\n",
              "      <td>Y</td>\n",
              "      <td>Denied</td>\n",
              "    </tr>\n",
              "    <tr>\n",
              "      <th>3</th>\n",
              "      <td>Asia</td>\n",
              "      <td>Bachelor's</td>\n",
              "      <td>N</td>\n",
              "      <td>N</td>\n",
              "      <td>98</td>\n",
              "      <td>1897</td>\n",
              "      <td>West</td>\n",
              "      <td>83434.0300</td>\n",
              "      <td>Year</td>\n",
              "      <td>Y</td>\n",
              "      <td>Denied</td>\n",
              "    </tr>\n",
              "    <tr>\n",
              "      <th>4</th>\n",
              "      <td>Africa</td>\n",
              "      <td>Master's</td>\n",
              "      <td>Y</td>\n",
              "      <td>N</td>\n",
              "      <td>1082</td>\n",
              "      <td>2005</td>\n",
              "      <td>South</td>\n",
              "      <td>149907.3900</td>\n",
              "      <td>Year</td>\n",
              "      <td>Y</td>\n",
              "      <td>Certified</td>\n",
              "    </tr>\n",
              "  </tbody>\n",
              "</table>\n",
              "</div>"
            ],
            "text/plain": [
              "  continent education_of_employee has_job_experience requires_job_training  \\\n",
              "0      Asia           High School                  N                     N   \n",
              "1      Asia              Master's                  Y                     N   \n",
              "2      Asia            Bachelor's                  N                     Y   \n",
              "3      Asia            Bachelor's                  N                     N   \n",
              "4    Africa              Master's                  Y                     N   \n",
              "\n",
              "   no_of_employees  yr_of_estab region_of_employment  prevailing_wage  \\\n",
              "0            14513         2007                 West         592.2029   \n",
              "1             2412         2002            Northeast       83425.6500   \n",
              "2            44444         2008                 West      122996.8600   \n",
              "3               98         1897                 West       83434.0300   \n",
              "4             1082         2005                South      149907.3900   \n",
              "\n",
              "  unit_of_wage full_time_position case_status  \n",
              "0         Hour                  Y      Denied  \n",
              "1         Year                  Y   Certified  \n",
              "2         Year                  Y      Denied  \n",
              "3         Year                  Y      Denied  \n",
              "4         Year                  Y   Certified  "
            ]
          },
          "execution_count": 6,
          "metadata": {},
          "output_type": "execute_result"
        }
      ],
      "source": [
        "df.head()"
      ]
    },
    {
      "cell_type": "code",
      "execution_count": 7,
      "id": "8eac04de",
      "metadata": {
        "id": "8eac04de"
      },
      "outputs": [],
      "source": [
        "# importing date class from datetime module\n",
        "from datetime import date\n",
        "  \n",
        "# creating the date object of today's date\n",
        "todays_date = date.today()\n",
        "current_year= todays_date.year"
      ]
    },
    {
      "cell_type": "code",
      "execution_count": 8,
      "id": "b9cc4d34",
      "metadata": {},
      "outputs": [
        {
          "data": {
            "text/plain": [
              "2025"
            ]
          },
          "execution_count": 8,
          "metadata": {},
          "output_type": "execute_result"
        }
      ],
      "source": [
        "current_year"
      ]
    },
    {
      "cell_type": "markdown",
      "id": "79bd9cbf",
      "metadata": {
        "id": "79bd9cbf"
      },
      "source": [
        "**Subtract current year with year of estab to get company's age**"
      ]
    },
    {
      "cell_type": "code",
      "execution_count": 9,
      "id": "3c193e26",
      "metadata": {
        "id": "3c193e26"
      },
      "outputs": [],
      "source": [
        "df['company_age'] = current_year-df['yr_of_estab']"
      ]
    },
    {
      "cell_type": "code",
      "execution_count": 10,
      "id": "fd661e95",
      "metadata": {
        "id": "fd661e95",
        "outputId": "5221c83c-9303-43b7-e12a-8e6f46d14f15"
      },
      "outputs": [
        {
          "data": {
            "text/html": [
              "<div>\n",
              "<style scoped>\n",
              "    .dataframe tbody tr th:only-of-type {\n",
              "        vertical-align: middle;\n",
              "    }\n",
              "\n",
              "    .dataframe tbody tr th {\n",
              "        vertical-align: top;\n",
              "    }\n",
              "\n",
              "    .dataframe thead th {\n",
              "        text-align: right;\n",
              "    }\n",
              "</style>\n",
              "<table border=\"1\" class=\"dataframe\">\n",
              "  <thead>\n",
              "    <tr style=\"text-align: right;\">\n",
              "      <th></th>\n",
              "      <th>continent</th>\n",
              "      <th>education_of_employee</th>\n",
              "      <th>has_job_experience</th>\n",
              "      <th>requires_job_training</th>\n",
              "      <th>no_of_employees</th>\n",
              "      <th>yr_of_estab</th>\n",
              "      <th>region_of_employment</th>\n",
              "      <th>prevailing_wage</th>\n",
              "      <th>unit_of_wage</th>\n",
              "      <th>full_time_position</th>\n",
              "      <th>case_status</th>\n",
              "      <th>company_age</th>\n",
              "    </tr>\n",
              "  </thead>\n",
              "  <tbody>\n",
              "    <tr>\n",
              "      <th>0</th>\n",
              "      <td>Asia</td>\n",
              "      <td>High School</td>\n",
              "      <td>N</td>\n",
              "      <td>N</td>\n",
              "      <td>14513</td>\n",
              "      <td>2007</td>\n",
              "      <td>West</td>\n",
              "      <td>592.2029</td>\n",
              "      <td>Hour</td>\n",
              "      <td>Y</td>\n",
              "      <td>Denied</td>\n",
              "      <td>18</td>\n",
              "    </tr>\n",
              "    <tr>\n",
              "      <th>1</th>\n",
              "      <td>Asia</td>\n",
              "      <td>Master's</td>\n",
              "      <td>Y</td>\n",
              "      <td>N</td>\n",
              "      <td>2412</td>\n",
              "      <td>2002</td>\n",
              "      <td>Northeast</td>\n",
              "      <td>83425.6500</td>\n",
              "      <td>Year</td>\n",
              "      <td>Y</td>\n",
              "      <td>Certified</td>\n",
              "      <td>23</td>\n",
              "    </tr>\n",
              "    <tr>\n",
              "      <th>2</th>\n",
              "      <td>Asia</td>\n",
              "      <td>Bachelor's</td>\n",
              "      <td>N</td>\n",
              "      <td>Y</td>\n",
              "      <td>44444</td>\n",
              "      <td>2008</td>\n",
              "      <td>West</td>\n",
              "      <td>122996.8600</td>\n",
              "      <td>Year</td>\n",
              "      <td>Y</td>\n",
              "      <td>Denied</td>\n",
              "      <td>17</td>\n",
              "    </tr>\n",
              "    <tr>\n",
              "      <th>3</th>\n",
              "      <td>Asia</td>\n",
              "      <td>Bachelor's</td>\n",
              "      <td>N</td>\n",
              "      <td>N</td>\n",
              "      <td>98</td>\n",
              "      <td>1897</td>\n",
              "      <td>West</td>\n",
              "      <td>83434.0300</td>\n",
              "      <td>Year</td>\n",
              "      <td>Y</td>\n",
              "      <td>Denied</td>\n",
              "      <td>128</td>\n",
              "    </tr>\n",
              "    <tr>\n",
              "      <th>4</th>\n",
              "      <td>Africa</td>\n",
              "      <td>Master's</td>\n",
              "      <td>Y</td>\n",
              "      <td>N</td>\n",
              "      <td>1082</td>\n",
              "      <td>2005</td>\n",
              "      <td>South</td>\n",
              "      <td>149907.3900</td>\n",
              "      <td>Year</td>\n",
              "      <td>Y</td>\n",
              "      <td>Certified</td>\n",
              "      <td>20</td>\n",
              "    </tr>\n",
              "  </tbody>\n",
              "</table>\n",
              "</div>"
            ],
            "text/plain": [
              "  continent education_of_employee has_job_experience requires_job_training  \\\n",
              "0      Asia           High School                  N                     N   \n",
              "1      Asia              Master's                  Y                     N   \n",
              "2      Asia            Bachelor's                  N                     Y   \n",
              "3      Asia            Bachelor's                  N                     N   \n",
              "4    Africa              Master's                  Y                     N   \n",
              "\n",
              "   no_of_employees  yr_of_estab region_of_employment  prevailing_wage  \\\n",
              "0            14513         2007                 West         592.2029   \n",
              "1             2412         2002            Northeast       83425.6500   \n",
              "2            44444         2008                 West      122996.8600   \n",
              "3               98         1897                 West       83434.0300   \n",
              "4             1082         2005                South      149907.3900   \n",
              "\n",
              "  unit_of_wage full_time_position case_status  company_age  \n",
              "0         Hour                  Y      Denied           18  \n",
              "1         Year                  Y   Certified           23  \n",
              "2         Year                  Y      Denied           17  \n",
              "3         Year                  Y      Denied          128  \n",
              "4         Year                  Y   Certified           20  "
            ]
          },
          "execution_count": 10,
          "metadata": {},
          "output_type": "execute_result"
        }
      ],
      "source": [
        "df.head()"
      ]
    },
    {
      "cell_type": "code",
      "execution_count": 11,
      "id": "2cc2b5c1",
      "metadata": {
        "id": "2cc2b5c1"
      },
      "outputs": [],
      "source": [
        "df.drop('yr_of_estab', inplace=True, axis=1)"
      ]
    },
    {
      "cell_type": "markdown",
      "id": "66542de1",
      "metadata": {
        "id": "66542de1"
      },
      "source": [
        "### Type of Features"
      ]
    },
    {
      "cell_type": "markdown",
      "id": "85df52e5",
      "metadata": {
        "id": "85df52e5"
      },
      "source": [
        "**Numeric Features**"
      ]
    },
    {
      "cell_type": "code",
      "execution_count": 55,
      "id": "d48aeaa4",
      "metadata": {
        "id": "d48aeaa4",
        "outputId": "3472d509-3613-408a-b2e0-7e04e3ba694a"
      },
      "outputs": [
        {
          "name": "stdout",
          "output_type": "stream",
          "text": [
            "Num of Numerical Features : 3\n",
            "Numerical Features:  ['no_of_employees', 'prevailing_wage', 'company_age']\n"
          ]
        }
      ],
      "source": [
        "num_features = [feature for feature in df.columns if df[feature].dtype != 'O']\n",
        "print('Num of Numerical Features :', len(num_features))\n",
        "print(\"Numerical Features: \", num_features)"
      ]
    },
    {
      "cell_type": "markdown",
      "id": "e1107060",
      "metadata": {
        "id": "e1107060"
      },
      "source": [
        "**Categorical Features**"
      ]
    },
    {
      "cell_type": "code",
      "execution_count": 56,
      "id": "ff997805",
      "metadata": {
        "id": "ff997805",
        "outputId": "3dd63e00-7af0-48de-d7bb-5d1f51c557de"
      },
      "outputs": [
        {
          "name": "stdout",
          "output_type": "stream",
          "text": [
            "Num of Categorical Features : 8\n",
            "Categorical Features:  ['continent', 'education_of_employee', 'has_job_experience', 'requires_job_training', 'region_of_employment', 'unit_of_wage', 'full_time_position', 'case_status']\n"
          ]
        }
      ],
      "source": [
        "cat_features = [feature for feature in df.columns if df[feature].dtype == 'O']\n",
        "print('Num of Categorical Features :', len(cat_features))\n",
        "print(\"Categorical Features: \", cat_features)"
      ]
    },
    {
      "cell_type": "markdown",
      "id": "9bc032f9",
      "metadata": {
        "id": "9bc032f9"
      },
      "source": [
        "**Discrete features**"
      ]
    },
    {
      "cell_type": "code",
      "execution_count": 14,
      "id": "812ee6e0",
      "metadata": {
        "id": "812ee6e0",
        "outputId": "0181bd9a-5f2b-4292-8a57-d9c683d2e128"
      },
      "outputs": [
        {
          "name": "stdout",
          "output_type": "stream",
          "text": [
            "Num of Discrete Features : 0\n"
          ]
        }
      ],
      "source": [
        "discrete_features=[feature for feature in num_features if len(df[feature].unique())<=25]\n",
        "print('Num of Discrete Features :',len(discrete_features))"
      ]
    },
    {
      "cell_type": "markdown",
      "id": "3e6740bf",
      "metadata": {
        "id": "3e6740bf"
      },
      "source": [
        "**Continues Features**"
      ]
    },
    {
      "cell_type": "code",
      "execution_count": 58,
      "id": "e501c72b",
      "metadata": {
        "id": "e501c72b",
        "outputId": "c10010b4-eb51-406e-afc4-464894031222"
      },
      "outputs": [
        {
          "name": "stdout",
          "output_type": "stream",
          "text": [
            "Num of Continuous Features : 3\n",
            "Continuous Features:  ['no_of_employees', 'prevailing_wage', 'company_age']\n"
          ]
        }
      ],
      "source": [
        "continuous_features=[feature for feature in num_features if feature not in discrete_features]\n",
        "print('Num of Continuous Features :',len(continuous_features))\n",
        "print(\"Continuous Features: \", continuous_features) # same as numerical features"
      ]
    },
    {
      "cell_type": "markdown",
      "id": "5a2cf140",
      "metadata": {
        "id": "5a2cf140"
      },
      "source": [
        "### Split X and Y"
      ]
    },
    {
      "cell_type": "markdown",
      "id": "9455c01a",
      "metadata": {
        "id": "9455c01a"
      },
      "source": [
        "* **Split Dataframe to X and y**\n",
        "* **Here we set a variable X i.e, independent columns, and a variable y i.e, dependent column as the “Case_Status” column.**\n"
      ]
    },
    {
      "cell_type": "code",
      "execution_count": 16,
      "id": "4434aa31",
      "metadata": {
        "id": "4434aa31"
      },
      "outputs": [],
      "source": [
        "X = df.drop('case_status', axis=1)\n",
        "y = df['case_status']"
      ]
    },
    {
      "cell_type": "code",
      "execution_count": 54,
      "id": "251cf68d",
      "metadata": {},
      "outputs": [
        {
          "data": {
            "text/plain": [
              "(24,)"
            ]
          },
          "execution_count": 54,
          "metadata": {},
          "output_type": "execute_result"
        }
      ],
      "source": [
        "X[0].shape"
      ]
    },
    {
      "cell_type": "code",
      "execution_count": 17,
      "id": "67a428d4",
      "metadata": {},
      "outputs": [
        {
          "data": {
            "text/plain": [
              "0       Denied\n",
              "1    Certified\n",
              "2       Denied\n",
              "3       Denied\n",
              "4    Certified\n",
              "Name: case_status, dtype: object"
            ]
          },
          "execution_count": 17,
          "metadata": {},
          "output_type": "execute_result"
        }
      ],
      "source": [
        "y.head()"
      ]
    },
    {
      "cell_type": "markdown",
      "id": "f2260600",
      "metadata": {
        "id": "f2260600"
      },
      "source": [
        "**Manual encoding target column**"
      ]
    },
    {
      "cell_type": "code",
      "execution_count": 18,
      "id": "7a9d7c95",
      "metadata": {
        "id": "7a9d7c95"
      },
      "outputs": [],
      "source": [
        "# If the target column has Denied it is encoded as 1 others as 0\n",
        "y= np.where(y=='Denied', 1,0)"
      ]
    },
    {
      "cell_type": "code",
      "execution_count": 19,
      "id": "398fad76",
      "metadata": {},
      "outputs": [
        {
          "data": {
            "text/plain": [
              "array([1, 0, 1, ..., 0, 0, 0], shape=(25480,))"
            ]
          },
          "execution_count": 19,
          "metadata": {},
          "output_type": "execute_result"
        }
      ],
      "source": [
        "y"
      ]
    },
    {
      "cell_type": "markdown",
      "id": "ca2d817d",
      "metadata": {
        "id": "ca2d817d"
      },
      "source": [
        "## Feature Transformation"
      ]
    },
    {
      "cell_type": "code",
      "execution_count": 20,
      "id": "a921c3a0",
      "metadata": {
        "id": "a921c3a0",
        "outputId": "84d46867-1130-41fc-9dca-e5087fccb83d",
        "scrolled": false
      },
      "outputs": [
        {
          "data": {
            "image/png": "[encoded data removed]",
            "text/plain": [
              "<Figure size 1200x600 with 3 Axes>"
            ]
          },
          "metadata": {},
          "output_type": "display_data"
        }
      ],
      "source": [
        "# distribution of data before scaling\n",
        "plt.figure(figsize=(12, 6))\n",
        "for i, col in enumerate(['no_of_employees','prevailing_wage','company_age']):\n",
        "    plt.subplot(2, 2, i+1)\n",
        "    sns.histplot(x=X[col], color='indianred')\n",
        "    plt.xlabel(col)\n",
        "    plt.tight_layout()"
      ]
    },
    {
      "cell_type": "markdown",
      "id": "993fca30",
      "metadata": {
        "id": "993fca30"
      },
      "source": [
        "* No of employees and Copmany age column is skewed\n",
        "* Apply a power transform featurewise to make data more Gaussian-like.\n",
        "\n",
        "Power transforms are a family of parametric, monotonic transformations that are applied to make data more Gaussian-like. This is useful for modeling issues related to heteroscedasticity (non-constant variance), or other situations where normality is desired.\n",
        "\n",
        "Currently, PowerTransformer supports the Box-Cox transform and the Yeo-Johnson transform."
      ]
    },
    {
      "cell_type": "markdown",
      "id": "a890a255",
      "metadata": {
        "id": "a890a255"
      },
      "source": [
        "**Checking Skewness**"
      ]
    },
    {
      "cell_type": "markdown",
      "id": "ca6ac67f",
      "metadata": {
        "id": "ca6ac67f"
      },
      "source": [
        "**What is Skewness ?**\n",
        "\n",
        "* Skewness refers to a distortion or asymmetry that deviates from the symmetrical bell curve, or normal distribution, in a set of data. If the curve is shifted to the left or to the right, it is said to be skewed. Skewness can be quantified as a representation of the extent to which a given distribution varies from a normal distribution. A normal distribution has a skew of zero"
      ]
    },
    {
      "cell_type": "code",
      "execution_count": 21,
      "id": "4038a207",
      "metadata": {
        "id": "4038a207",
        "outputId": "51497045-4d93-46f8-ea18-47d742680845"
      },
      "outputs": [
        {
          "data": {
            "text/plain": [
              "no_of_employees    12.265260\n",
              "prevailing_wage     0.755776\n",
              "company_age         2.037301\n",
              "dtype: float64"
            ]
          },
          "execution_count": 21,
          "metadata": {},
          "output_type": "execute_result"
        }
      ],
      "source": [
        "# Check Skewness\n",
        "X[continuous_features].skew(axis=0, skipna=True)"
      ]
    },
    {
      "cell_type": "markdown",
      "id": "1786c0ad",
      "metadata": {
        "id": "1786c0ad"
      },
      "source": [
        "- Positiviely Skewed : company_age, no_of_employees.\n",
        "- We can handle outliers and then check the skewness."
      ]
    },
    {
      "cell_type": "markdown",
      "id": "96c39509",
      "metadata": {
        "id": "96c39509"
      },
      "source": [
        "## Apply Power Transformer to Check if it can reduces the outliers"
      ]
    },
    {
      "cell_type": "code",
      "execution_count": 22,
      "id": "56ad9567",
      "metadata": {
        "id": "56ad9567"
      },
      "outputs": [],
      "source": [
        "from sklearn.preprocessing import PowerTransformer\n",
        "pt = PowerTransformer(method='yeo-johnson')\n",
        "transform_features = ['company_age', 'no_of_employees']\n",
        "X_copy = pt.fit_transform(X[transform_features])"
      ]
    },
    {
      "cell_type": "code",
      "execution_count": 23,
      "id": "255b1c5e",
      "metadata": {
        "id": "255b1c5e"
      },
      "outputs": [],
      "source": [
        "X_copy = pd.DataFrame(X_copy, columns=transform_features)"
      ]
    },
    {
      "cell_type": "code",
      "execution_count": 24,
      "id": "b49bad36",
      "metadata": {
        "id": "b49bad36",
        "outputId": "d732f372-b0f2-4bed-9f4d-394d46891abb"
      },
      "outputs": [
        {
          "data": {
            "image/png": "[encoded data removed]",
            "text/plain": [
              "<Figure size 1200x500 with 2 Axes>"
            ]
          },
          "metadata": {},
          "output_type": "display_data"
        }
      ],
      "source": [
        "plt.figure(figsize=(12, 5))\n",
        "for i, col in enumerate(transform_features):\n",
        "    plt.subplot(1, 2, i+1)\n",
        "    sns.histplot(x=X_copy[col], color='indianred')\n",
        "    plt.xlabel(col)\n",
        "    plt.tight_layout()"
      ]
    },
    {
      "cell_type": "markdown",
      "id": "bb26baf6",
      "metadata": {
        "id": "bb26baf6"
      },
      "source": [
        "**Checking Skewness**"
      ]
    },
    {
      "cell_type": "code",
      "execution_count": 25,
      "id": "4c9a232a",
      "metadata": {
        "id": "4c9a232a",
        "outputId": "1ef33497-82c9-42b1-d17d-c62b5c5049ad"
      },
      "outputs": [
        {
          "data": {
            "text/plain": [
              "company_age        0.112260\n",
              "no_of_employees    0.399339\n",
              "dtype: float64"
            ]
          },
          "execution_count": 25,
          "metadata": {},
          "output_type": "execute_result"
        }
      ],
      "source": [
        "X_copy.skew(axis=0, skipna=True)"
      ]
    },
    {
      "cell_type": "markdown",
      "id": "69c717fc",
      "metadata": {
        "id": "69c717fc"
      },
      "source": [
        "- Here Yeo-Johnson is used and it supports both positive or negative data for transformation.\n",
        "- So Power Transformer with yeo-johnson can be used."
      ]
    },
    {
      "cell_type": "code",
      "execution_count": 26,
      "id": "7740ff27",
      "metadata": {
        "id": "7740ff27",
        "outputId": "76d06e1f-cc70-41fa-91e2-6b99a2683eb4"
      },
      "outputs": [
        {
          "name": "stdout",
          "output_type": "stream",
          "text": [
            "continent : 6\n",
            "education_of_employee : 4\n",
            "has_job_experience : 2\n",
            "requires_job_training : 2\n",
            "region_of_employment : 5\n",
            "unit_of_wage : 4\n",
            "full_time_position : 2\n",
            "case_status : 2\n"
          ]
        }
      ],
      "source": [
        "for feature in cat_features:\n",
        "    print(feature,':', df[feature].nunique())"
      ]
    },
    {
      "cell_type": "markdown",
      "id": "51a3853d",
      "metadata": {
        "id": "51a3853d"
      },
      "source": [
        "## Feature Encoding and Scaling"
      ]
    },
    {
      "cell_type": "markdown",
      "id": "29dbaf2d",
      "metadata": {
        "id": "29dbaf2d"
      },
      "source": [
        " **One Hot Encoding for Columns which had lesser unique values and not ordinal**\n",
        "* One hot encoding is a process by which categorical variables are converted into a form that could be provided to ML algorithms to do a better job in prediction.\n",
        "\n",
        "**Ordinal Encoding for Columns which has many unique categories** \n",
        "* Ordinal encoding is used here as label encoder is supported for column transformer.\n",
        "* Ordinal encoding is used for Ordinal Variable. Variable comprises a finite set of discrete values with a ranked ordering between values.\n",
        "\n",
        "**Standard Scaler** \n",
        "* Standardize features by removing the mean and scaling to unit variance.\n",
        "\n",
        "**Power Transformer**\n",
        "* Power transforms are a technique for transforming numerical input or output variables to have a Gaussian or more-Gaussian-like probability distribution."
      ]
    },
    {
      "cell_type": "markdown",
      "id": "e245a3af",
      "metadata": {
        "id": "e245a3af"
      },
      "source": [
        "**Selecting number features for preprocessing**"
      ]
    },
    {
      "cell_type": "code",
      "execution_count": 27,
      "id": "ef40892b",
      "metadata": {
        "id": "ef40892b"
      },
      "outputs": [],
      "source": [
        "num_features = list(X.select_dtypes(exclude=\"object\").columns)"
      ]
    },
    {
      "cell_type": "code",
      "execution_count": 28,
      "id": "5321209d",
      "metadata": {},
      "outputs": [
        {
          "data": {
            "text/plain": [
              "['no_of_employees', 'prevailing_wage', 'company_age']"
            ]
          },
          "execution_count": 28,
          "metadata": {},
          "output_type": "execute_result"
        }
      ],
      "source": [
        "num_features"
      ]
    },
    {
      "cell_type": "markdown",
      "id": "2bccb0bc",
      "metadata": {
        "id": "2bccb0bc"
      },
      "source": [
        "### **Preprocessing using Column Transformer**"
      ]
    },
    {
      "cell_type": "code",
      "execution_count": null,
      "id": "e9a2c9b5",
      "metadata": {
        "id": "e9a2c9b5"
      },
      "outputs": [],
      "source": [
        "# Create Column Transformer with 3 types of transformers\n",
        "or_columns = ['has_job_experience','requires_job_training','full_time_position','education_of_employee']\n",
        "oh_columns = ['continent','unit_of_wage','region_of_employment']\n",
        "transform_columns= ['no_of_employees','company_age']\n",
        "\n",
        "from sklearn.preprocessing import OneHotEncoder, StandardScaler,OrdinalEncoder, PowerTransformer\n",
        "from sklearn.compose import ColumnTransformer \n",
        "from sklearn.pipeline import Pipeline\n",
        "\n",
        "numeric_transformer = StandardScaler()\n",
        "oh_transformer = OneHotEncoder()\n",
        "ordinal_encoder = OrdinalEncoder()\n",
        "\n",
        "transform_pipe = Pipeline(steps=[\n",
        "    ('transformer', PowerTransformer(method='yeo-johnson'))\n",
        "])\n",
        "\n",
        "preprocessor = ColumnTransformer(\n",
        "    [\n",
        "        (\"OneHotEncoder\", oh_transformer, oh_columns),\n",
        "        (\"Ordinal_Encoder\", ordinal_encoder, or_columns),\n",
        "        (\"Transformer\", transform_pipe, transform_columns),\n",
        "        (\"StandardScaler\", numeric_transformer, num_features)\n",
        "    ]\n",
        ")"
      ]
    },
    {
      "cell_type": "code",
      "execution_count": 30,
      "id": "328d041f",
      "metadata": {
        "id": "328d041f"
      },
      "outputs": [],
      "source": [
        "X = preprocessor.fit_transform(X)"
      ]
    },
    {
      "cell_type": "code",
      "execution_count": 31,
      "id": "d791f12e",
      "metadata": {},
      "outputs": [
        {
          "data": {
            "text/plain": [
              "array([[ 0.        ,  1.        ,  0.        , ...,  0.38666657,\n",
              "        -1.39853722, -0.65122993],\n",
              "       [ 0.        ,  1.        ,  0.        , ..., -0.14228155,\n",
              "         0.1698353 , -0.53321103],\n",
              "       [ 0.        ,  1.        ,  0.        , ...,  1.69498375,\n",
              "         0.91907852, -0.6748337 ],\n",
              "       ...,\n",
              "       [ 0.        ,  1.        ,  0.        , ..., -0.19871259,\n",
              "         1.36027953,  1.63833662],\n",
              "       [ 0.        ,  1.        ,  0.        , ..., -0.16387483,\n",
              "         0.22150859,  2.18122353],\n",
              "       [ 0.        ,  1.        ,  0.        , ..., -0.10805575,\n",
              "        -0.06776315,  0.45814768]], shape=(25480, 24))"
            ]
          },
          "execution_count": 31,
          "metadata": {},
          "output_type": "execute_result"
        }
      ],
      "source": [
        "X"
      ]
    },
    {
      "cell_type": "markdown",
      "id": "8b08df30",
      "metadata": {
        "id": "8b08df30"
      },
      "source": [
        "# Classification"
      ]
    },
    {
      "cell_type": "code",
      "execution_count": 32,
      "id": "6688f6fb",
      "metadata": {
        "id": "6688f6fb"
      },
      "outputs": [],
      "source": [
        "from imblearn.combine import SMOTETomek, SMOTEENN\n",
        "\n",
        "# Resampling the minority class. The strategy can be changed as required.\n",
        "smt = SMOTEENN(random_state=42,sampling_strategy='minority' )\n",
        "# Fit the model to generate the data.\n",
        "X_res, y_res = smt.fit_resample(X, y)"
      ]
    },
    {
      "cell_type": "markdown",
      "id": "8a2c0485",
      "metadata": {
        "id": "8a2c0485"
      },
      "source": [
        "## Train Test Split\n",
        "- The train-test split procedure is used to estimate the performance of machine learning algorithms when they are used to make predictions on data not used to train the model.\n",
        "\n",
        "- It is a fast and easy procedure to perform, the results of which allow you to compare the performance of machine learning algorithms."
      ]
    },
    {
      "cell_type": "code",
      "execution_count": 33,
      "id": "e0f5858e",
      "metadata": {
        "id": "e0f5858e",
        "outputId": "d91dcb53-e0ae-4571-ef70-745f4c2ed1a2"
      },
      "outputs": [
        {
          "data": {
            "text/plain": [
              "((13629, 24), (3408, 24))"
            ]
          },
          "execution_count": 33,
          "metadata": {},
          "output_type": "execute_result"
        }
      ],
      "source": [
        "from sklearn.model_selection import  train_test_split\n",
        "# separate dataset into train and test\n",
        "X_train, X_test, y_train, y_test = train_test_split(X_res,y_res,test_size=0.2,random_state=42)\n",
        "X_train.shape, X_test.shape"
      ]
    },
    {
      "cell_type": "code",
      "execution_count": 34,
      "id": "4cdb60f1",
      "metadata": {
        "id": "4cdb60f1"
      },
      "outputs": [],
      "source": [
        "from sklearn.ensemble import RandomForestClassifier, AdaBoostClassifier, GradientBoostingClassifier\n",
        "from sklearn.linear_model import LogisticRegression\n",
        "from sklearn.neighbors import KNeighborsClassifier\n",
        "from sklearn.tree import DecisionTreeClassifier\n",
        "from sklearn.svm import SVC\n",
        "from sklearn.metrics import accuracy_score, classification_report,ConfusionMatrixDisplay, \\\n",
        "                            precision_score, recall_score, f1_score, roc_auc_score,roc_curve \n",
        "from xgboost import XGBClassifier\n",
        "from catboost import CatBoostClassifier"
      ]
    },
    {
      "cell_type": "code",
      "execution_count": 35,
      "id": "b4da40e7",
      "metadata": {
        "id": "b4da40e7"
      },
      "outputs": [],
      "source": [
        "def evaluate_clf(true, predicted):\n",
        "    acc = accuracy_score(true, predicted) # Calculate Accuracy\n",
        "    f1 = f1_score(true, predicted) # Calculate F1-score\n",
        "    precision = precision_score(true, predicted) # Calculate Precision\n",
        "    recall = recall_score(true, predicted)  # Calculate Recall\n",
        "    roc_auc = roc_auc_score(true, predicted) #Calculate Roc\n",
        "    return acc, f1 , precision, recall, roc_auc"
      ]
    },
    {
      "cell_type": "code",
      "execution_count": null,
      "id": "91cebd1a",
      "metadata": {
        "id": "91cebd1a",
        "scrolled": false
      },
      "outputs": [],
      "source": [
        "models = {\n",
        "    \"Random Forest\": RandomForestClassifier(),\n",
        "    \"Decision Tree\": DecisionTreeClassifier(),\n",
        "    \"Gradient Boosting\": GradientBoostingClassifier(),\n",
        "    \"Logistic Regression\": LogisticRegression(),\n",
        "     \"K-Neighbors Classifier\": KNeighborsClassifier(),\n",
        "    \"XGBClassifier\": XGBClassifier(), \n",
        "     \"CatBoosting Classifier\": CatBoostClassifier(verbose=False),\n",
        "     \"Support Vector Classifier\": SVC(),\n",
        "    \"AdaBoost Classifier\": AdaBoostClassifier()\n",
        "}"
      ]
    },
    {
      "cell_type": "code",
      "execution_count": 37,
      "id": "9aa69756",
      "metadata": {
        "id": "9aa69756"
      },
      "outputs": [],
      "source": [
        "# Create a function which can evaluate models and return a report \n",
        "def evaluate_models(X, y, models):\n",
        "    '''\n",
        "    This function takes in X and y and models dictionary as input\n",
        "    It splits the data into Train Test split\n",
        "    Iterates through the given model dictionary and evaluates the metrics\n",
        "    Returns: Dataframe which contains report of all models metrics with cost\n",
        "    '''\n",
        "    # separate dataset into train and test\n",
        "    X_train, X_test, y_train, y_test = train_test_split(X,y,test_size=0.2,random_state=42)\n",
        "    \n",
        "    models_list = []\n",
        "    accuracy_list = []\n",
        "    auc= []\n",
        "    \n",
        "    for i in range(len(list(models))):\n",
        "        model = list(models.values())[i]\n",
        "        model.fit(X_train, y_train) # Train model\n",
        "\n",
        "        # Make predictions\n",
        "        y_train_pred = model.predict(X_train)\n",
        "        y_test_pred = model.predict(X_test)\n",
        "\n",
        "        # Training set performance\n",
        "        model_train_accuracy, model_train_f1,model_train_precision,\\\n",
        "        model_train_recall,model_train_rocauc_score=evaluate_clf(y_train ,y_train_pred)\n",
        "\n",
        "\n",
        "        # Test set performance\n",
        "        model_test_accuracy,model_test_f1,model_test_precision,\\\n",
        "        model_test_recall,model_test_rocauc_score=evaluate_clf(y_test, y_test_pred)\n",
        "\n",
        "        print(list(models.keys())[i])\n",
        "        models_list.append(list(models.keys())[i])\n",
        "\n",
        "        print('Model performance for Training set')\n",
        "        print(\"- Accuracy: {:.4f}\".format(model_train_accuracy))\n",
        "        print('- F1 score: {:.4f}'.format(model_train_f1)) \n",
        "        print('- Precision: {:.4f}'.format(model_train_precision))\n",
        "        print('- Recall: {:.4f}'.format(model_train_recall))\n",
        "        print('- Roc Auc Score: {:.4f}'.format(model_train_rocauc_score))\n",
        "\n",
        "        print('----------------------------------')\n",
        "\n",
        "        print('Model performance for Test set')\n",
        "        print('- Accuracy: {:.4f}'.format(model_test_accuracy))\n",
        "        accuracy_list.append(model_test_accuracy)\n",
        "        print('- F1 score: {:.4f}'.format(model_test_f1))\n",
        "        print('- Precision: {:.4f}'.format(model_test_precision))\n",
        "        print('- Recall: {:.4f}'.format(model_test_recall))\n",
        "        print('- Roc Auc Score: {:.4f}'.format(model_test_rocauc_score))\n",
        "        auc.append(model_test_rocauc_score)\n",
        "        print('='*35)\n",
        "        print('\\n')\n",
        "        \n",
        "    report=pd.DataFrame(list(zip(models_list, accuracy_list)), columns=['Model Name', 'Accuracy']).sort_values(by=['Accuracy'], ascending=False)\n",
        "        \n",
        "    return report"
      ]
    },
    {
      "cell_type": "markdown",
      "id": "0e010280",
      "metadata": {
        "id": "0e010280"
      },
      "source": [
        "## Model Training "
      ]
    },
    {
      "cell_type": "code",
      "execution_count": 38,
      "id": "b08c217d",
      "metadata": {
        "id": "b08c217d",
        "outputId": "f8290c30-975a-4e44-80bd-9e120036e956",
        "scrolled": false
      },
      "outputs": [
        {
          "name": "stdout",
          "output_type": "stream",
          "text": [
            "Random Forest\n",
            "Model performance for Training set\n",
            "- Accuracy: 1.0000\n",
            "- F1 score: 1.0000\n",
            "- Precision: 1.0000\n",
            "- Recall: 1.0000\n",
            "- Roc Auc Score: 1.0000\n",
            "----------------------------------\n",
            "Model performance for Test set\n",
            "- Accuracy: 0.9519\n",
            "- F1 score: 0.9557\n",
            "- Precision: 0.9510\n",
            "- Recall: 0.9603\n",
            "- Roc Auc Score: 0.9511\n",
            "===================================\n",
            "\n",
            "\n",
            "Decision Tree\n",
            "Model performance for Training set\n",
            "- Accuracy: 1.0000\n",
            "- F1 score: 1.0000\n",
            "- Precision: 1.0000\n",
            "- Recall: 1.0000\n",
            "- Roc Auc Score: 1.0000\n",
            "----------------------------------\n",
            "Model performance for Test set\n",
            "- Accuracy: 0.9293\n",
            "- F1 score: 0.9349\n",
            "- Precision: 0.9291\n",
            "- Recall: 0.9408\n",
            "- Roc Auc Score: 0.9283\n",
            "===================================\n",
            "\n",
            "\n",
            "Gradient Boosting\n",
            "Model performance for Training set\n",
            "- Accuracy: 0.8897\n",
            "- F1 score: 0.8965\n",
            "- Precision: 0.9068\n",
            "- Recall: 0.8865\n",
            "- Roc Auc Score: 0.8900\n",
            "----------------------------------\n",
            "Model performance for Test set\n",
            "- Accuracy: 0.8791\n",
            "- F1 score: 0.8875\n",
            "- Precision: 0.8919\n",
            "- Recall: 0.8832\n",
            "- Roc Auc Score: 0.8788\n",
            "===================================\n",
            "\n",
            "\n",
            "Logistic Regression\n",
            "Model performance for Training set\n",
            "- Accuracy: 0.7382\n",
            "- F1 score: 0.7523\n",
            "- Precision: 0.7677\n",
            "- Recall: 0.7374\n",
            "- Roc Auc Score: 0.7383\n",
            "----------------------------------\n",
            "Model performance for Test set\n",
            "- Accuracy: 0.7256\n",
            "- F1 score: 0.7411\n",
            "- Precision: 0.7555\n",
            "- Recall: 0.7272\n",
            "- Roc Auc Score: 0.7255\n",
            "===================================\n",
            "\n",
            "\n",
            "K-Neighbors Classifier\n",
            "Model performance for Training set\n",
            "- Accuracy: 0.9655\n",
            "- F1 score: 0.9684\n",
            "- Precision: 0.9574\n",
            "- Recall: 0.9796\n",
            "- Roc Auc Score: 0.9643\n",
            "----------------------------------\n",
            "Model performance for Test set\n",
            "- Accuracy: 0.9416\n",
            "- F1 score: 0.9467\n",
            "- Precision: 0.9339\n",
            "- Recall: 0.9598\n",
            "- Roc Auc Score: 0.9400\n",
            "===================================\n",
            "\n",
            "\n",
            "XGBClassifier\n",
            "Model performance for Training set\n",
            "- Accuracy: 0.9794\n",
            "- F1 score: 0.9809\n",
            "- Precision: 0.9802\n",
            "- Recall: 0.9816\n",
            "- Roc Auc Score: 0.9792\n",
            "----------------------------------\n",
            "Model performance for Test set\n",
            "- Accuracy: 0.9352\n",
            "- F1 score: 0.9397\n",
            "- Precision: 0.9431\n",
            "- Recall: 0.9364\n",
            "- Roc Auc Score: 0.9350\n",
            "===================================\n",
            "\n",
            "\n",
            "CatBoosting Classifier\n",
            "Model performance for Training set\n",
            "- Accuracy: 0.9541\n",
            "- F1 score: 0.9571\n",
            "- Precision: 0.9627\n",
            "- Recall: 0.9517\n",
            "- Roc Auc Score: 0.9543\n",
            "----------------------------------\n",
            "Model performance for Test set\n",
            "- Accuracy: 0.9281\n",
            "- F1 score: 0.9327\n",
            "- Precision: 0.9423\n",
            "- Recall: 0.9234\n",
            "- Roc Auc Score: 0.9285\n",
            "===================================\n",
            "\n",
            "\n",
            "Support Vector Classifier\n",
            "Model performance for Training set\n",
            "- Accuracy: 0.8740\n",
            "- F1 score: 0.8825\n",
            "- Precision: 0.8871\n",
            "- Recall: 0.8780\n",
            "- Roc Auc Score: 0.8737\n",
            "----------------------------------\n",
            "Model performance for Test set\n",
            "- Accuracy: 0.8571\n",
            "- F1 score: 0.8678\n",
            "- Precision: 0.8671\n",
            "- Recall: 0.8685\n",
            "- Roc Auc Score: 0.8561\n",
            "===================================\n",
            "\n",
            "\n",
            "AdaBoost Classifier\n",
            "Model performance for Training set\n",
            "- Accuracy: 0.8538\n",
            "- F1 score: 0.8644\n",
            "- Precision: 0.8647\n",
            "- Recall: 0.8640\n",
            "- Roc Auc Score: 0.8530\n",
            "----------------------------------\n",
            "Model performance for Test set\n",
            "- Accuracy: 0.8492\n",
            "- F1 score: 0.8609\n",
            "- Precision: 0.8576\n",
            "- Recall: 0.8641\n",
            "- Roc Auc Score: 0.8479\n",
            "===================================\n",
            "\n",
            "\n"
          ]
        }
      ],
      "source": [
        "base_model_report =evaluate_models(X=X_res, y=y_res, models=models)"
      ]
    },
    {
      "cell_type": "markdown",
      "id": "8ac46818",
      "metadata": {
        "id": "8ac46818"
      },
      "source": [
        "**Results of All Models**"
      ]
    },
    {
      "cell_type": "code",
      "execution_count": 39,
      "id": "fd686f5e",
      "metadata": {
        "id": "fd686f5e",
        "outputId": "bf5b1cc5-5eab-4a63-c765-0a23cdc94ab0"
      },
      "outputs": [
        {
          "data": {
            "text/html": [
              "<div>\n",
              "<style scoped>\n",
              "    .dataframe tbody tr th:only-of-type {\n",
              "        vertical-align: middle;\n",
              "    }\n",
              "\n",
              "    .dataframe tbody tr th {\n",
              "        vertical-align: top;\n",
              "    }\n",
              "\n",
              "    .dataframe thead th {\n",
              "        text-align: right;\n",
              "    }\n",
              "</style>\n",
              "<table border=\"1\" class=\"dataframe\">\n",
              "  <thead>\n",
              "    <tr style=\"text-align: right;\">\n",
              "      <th></th>\n",
              "      <th>Model Name</th>\n",
              "      <th>Accuracy</th>\n",
              "    </tr>\n",
              "  </thead>\n",
              "  <tbody>\n",
              "    <tr>\n",
              "      <th>0</th>\n",
              "      <td>Random Forest</td>\n",
              "      <td>0.951878</td>\n",
              "    </tr>\n",
              "    <tr>\n",
              "      <th>4</th>\n",
              "      <td>K-Neighbors Classifier</td>\n",
              "      <td>0.941608</td>\n",
              "    </tr>\n",
              "    <tr>\n",
              "      <th>5</th>\n",
              "      <td>XGBClassifier</td>\n",
              "      <td>0.935153</td>\n",
              "    </tr>\n",
              "    <tr>\n",
              "      <th>1</th>\n",
              "      <td>Decision Tree</td>\n",
              "      <td>0.929284</td>\n",
              "    </tr>\n",
              "    <tr>\n",
              "      <th>6</th>\n",
              "      <td>CatBoosting Classifier</td>\n",
              "      <td>0.928110</td>\n",
              "    </tr>\n",
              "    <tr>\n",
              "      <th>2</th>\n",
              "      <td>Gradient Boosting</td>\n",
              "      <td>0.879108</td>\n",
              "    </tr>\n",
              "    <tr>\n",
              "      <th>7</th>\n",
              "      <td>Support Vector Classifier</td>\n",
              "      <td>0.857101</td>\n",
              "    </tr>\n",
              "    <tr>\n",
              "      <th>8</th>\n",
              "      <td>AdaBoost Classifier</td>\n",
              "      <td>0.849178</td>\n",
              "    </tr>\n",
              "    <tr>\n",
              "      <th>3</th>\n",
              "      <td>Logistic Regression</td>\n",
              "      <td>0.725646</td>\n",
              "    </tr>\n",
              "  </tbody>\n",
              "</table>\n",
              "</div>"
            ],
            "text/plain": [
              "                  Model Name  Accuracy\n",
              "0              Random Forest  0.951878\n",
              "4     K-Neighbors Classifier  0.941608\n",
              "5              XGBClassifier  0.935153\n",
              "1              Decision Tree  0.929284\n",
              "6     CatBoosting Classifier  0.928110\n",
              "2          Gradient Boosting  0.879108\n",
              "7  Support Vector Classifier  0.857101\n",
              "8        AdaBoost Classifier  0.849178\n",
              "3        Logistic Regression  0.725646"
            ]
          },
          "execution_count": 39,
          "metadata": {},
          "output_type": "execute_result"
        }
      ],
      "source": [
        "base_model_report"
      ]
    },
    {
      "cell_type": "markdown",
      "id": "f3534db9",
      "metadata": {
        "id": "f3534db9"
      },
      "source": [
        "**Here we can use Random Forest for Hyper Parameter Tuning**"
      ]
    },
    {
      "cell_type": "markdown",
      "id": "0b83fb1c",
      "metadata": {
        "id": "0b83fb1c"
      },
      "source": [
        "**Define the parameter distribution for Random forest**"
      ]
    },
    {
      "cell_type": "code",
      "execution_count": 40,
      "id": "893c4b00",
      "metadata": {
        "id": "893c4b00"
      },
      "outputs": [],
      "source": [
        "#Initialize few parameter for Hyperparamter tuning\n",
        "xgboost_params = {\n",
        "    'max_depth':range(3,10,2),\n",
        "    'min_child_weight':range(1,6,2)\n",
        "}\n",
        "\n",
        "rf_params = {\n",
        "    \"max_depth\": [10, 12, None, 15, 20],\n",
        "    \"max_features\": ['sqrt', 'log2', None],\n",
        "    \"n_estimators\": [10, 50, 100, 200]\n",
        "}\n",
        "\n",
        "knn_params = {\n",
        "    \"algorithm\": ['auto', 'ball_tree', 'kd_tree','brute'],\n",
        "    \"weights\": ['uniform', 'distance'],\n",
        "    \"n_neighbors\": [3, 4, 5, 7, 9],\n",
        "}"
      ]
    },
    {
      "cell_type": "code",
      "execution_count": 41,
      "id": "9a57c5fd",
      "metadata": {
        "id": "9a57c5fd"
      },
      "outputs": [],
      "source": [
        "# Models list for Hyperparameter tuning\n",
        "randomcv_models = [\n",
        "    ('XGBoost', XGBClassifier(), xgboost_params),\n",
        "    (\"RF\", RandomForestClassifier(), rf_params),\n",
        "    (\"KNN\", KNeighborsClassifier(), knn_params)\n",
        "]"
      ]
    },
    {
      "cell_type": "markdown",
      "id": "723dea97",
      "metadata": {
        "id": "723dea97"
      },
      "source": [
        "**Create a function for model training and report which can be used in hyperparameter tuning loop**"
      ]
    },
    {
      "cell_type": "code",
      "execution_count": 42,
      "id": "0dc8830b",
      "metadata": {
        "id": "0dc8830b",
        "outputId": "7d73c308-88a2-41c6-a678-62f49819e41b"
      },
      "outputs": [
        {
          "name": "stdout",
          "output_type": "stream",
          "text": [
            "Fitting 3 folds for each of 12 candidates, totalling 36 fits\n"
          ]
        },
        {
          "name": "stdout",
          "output_type": "stream",
          "text": [
            "[CV] END ....................max_depth=3, min_child_weight=3; total time=   0.2s\n",
            "[CV] END ....................max_depth=3, min_child_weight=1; total time=   0.2s[CV] END ....................max_depth=3, min_child_weight=1; total time=   0.2s\n",
            "\n",
            "[CV] END ....................max_depth=3, min_child_weight=3; total time=   0.3s\n",
            "[CV] END ....................max_depth=3, min_child_weight=1; total time=   0.2s\n",
            "[CV] END ....................max_depth=5, min_child_weight=1; total time=   0.5s\n",
            "[CV] END ....................max_depth=5, min_child_weight=3; total time=   0.5s\n",
            "[CV] END ....................max_depth=3, min_child_weight=5; total time=   0.5s\n",
            "[CV] END ....................max_depth=5, min_child_weight=3; total time=   0.5s\n",
            "[CV] END ....................max_depth=5, min_child_weight=3; total time=   0.5s\n",
            "[CV] END ....................max_depth=3, min_child_weight=3; total time=   0.3s\n",
            "[CV] END ....................max_depth=3, min_child_weight=5; total time=   0.5s[CV] END ....................max_depth=3, min_child_weight=5; total time=   0.4s\n",
            "\n",
            "[CV] END ....................max_depth=5, min_child_weight=5; total time=   0.4s\n",
            "[CV] END ....................max_depth=5, min_child_weight=1; total time=   0.6s\n",
            "[CV] END ....................max_depth=5, min_child_weight=5; total time=   0.6s\n",
            "[CV] END ....................max_depth=5, min_child_weight=1; total time=   0.7s\n",
            "[CV] END ....................max_depth=5, min_child_weight=5; total time=   0.5s\n",
            "[CV] END ....................max_depth=7, min_child_weight=1; total time=   1.1s\n",
            "[CV] END ....................max_depth=7, min_child_weight=1; total time=   1.2s\n",
            "[CV] END ....................max_depth=7, min_child_weight=3; total time=   1.0s\n",
            "[CV] END ....................max_depth=7, min_child_weight=3; total time=   1.0s\n",
            "[CV] END ....................max_depth=7, min_child_weight=5; total time=   1.0s\n",
            "[CV] END ....................max_depth=7, min_child_weight=5; total time=   0.9s\n",
            "[CV] END ....................max_depth=7, min_child_weight=1; total time=   1.3s\n",
            "[CV] END ....................max_depth=7, min_child_weight=3; total time=   1.1s\n",
            "[CV] END ....................max_depth=7, min_child_weight=5; total time=   1.0s\n",
            "[CV] END ....................max_depth=9, min_child_weight=5; total time=   1.0s\n",
            "[CV] END ....................max_depth=9, min_child_weight=5; total time=   1.1s[CV] END ....................max_depth=9, min_child_weight=5; total time=   1.1s\n",
            "\n",
            "[CV] END ....................max_depth=9, min_child_weight=1; total time=   1.6s\n",
            "[CV] END ....................max_depth=9, min_child_weight=1; total time=   1.9s\n",
            "[CV] END ....................max_depth=9, min_child_weight=3; total time=   1.2s\n",
            "[CV] END ....................max_depth=9, min_child_weight=3; total time=   1.2s\n",
            "[CV] END ....................max_depth=9, min_child_weight=1; total time=   2.0s\n",
            "[CV] END ....................max_depth=9, min_child_weight=3; total time=   1.3s\n",
            "Fitting 3 folds for each of 60 candidates, totalling 180 fits\n",
            "[CV] END ...max_depth=10, max_features=sqrt, n_estimators=10; total time=   0.2s\n",
            "[CV] END ...max_depth=10, max_features=sqrt, n_estimators=10; total time=   0.2s\n",
            "[CV] END ...max_depth=10, max_features=sqrt, n_estimators=10; total time=   0.2s\n",
            "[CV] END ...max_depth=10, max_features=log2, n_estimators=10; total time=   0.2s\n",
            "[CV] END ...max_depth=10, max_features=log2, n_estimators=10; total time=   0.2s\n",
            "[CV] END ...max_depth=10, max_features=log2, n_estimators=10; total time=   0.3s\n",
            "[CV] END ...max_depth=10, max_features=sqrt, n_estimators=50; total time=   0.9s\n",
            "[CV] END ...max_depth=10, max_features=sqrt, n_estimators=50; total time=   0.9s\n",
            "[CV] END ...max_depth=10, max_features=sqrt, n_estimators=50; total time=   1.0s\n",
            "[CV] END ...max_depth=10, max_features=log2, n_estimators=50; total time=   0.9s\n",
            "[CV] END ...max_depth=10, max_features=log2, n_estimators=50; total time=   0.9s\n",
            "[CV] END ...max_depth=10, max_features=log2, n_estimators=50; total time=   0.9s\n",
            "[CV] END ..max_depth=10, max_features=sqrt, n_estimators=100; total time=   1.7s\n",
            "[CV] END ..max_depth=10, max_features=sqrt, n_estimators=100; total time=   1.8s\n",
            "[CV] END ..max_depth=10, max_features=sqrt, n_estimators=100; total time=   1.8s\n",
            "[CV] END ...max_depth=10, max_features=None, n_estimators=10; total time=   0.7s\n",
            "[CV] END ...max_depth=10, max_features=None, n_estimators=10; total time=   0.7s\n",
            "[CV] END ..max_depth=10, max_features=log2, n_estimators=100; total time=   1.5s\n",
            "[CV] END ...max_depth=10, max_features=None, n_estimators=10; total time=   0.9s\n",
            "[CV] END ..max_depth=10, max_features=log2, n_estimators=100; total time=   1.9s\n",
            "[CV] END ..max_depth=10, max_features=log2, n_estimators=100; total time=   1.9s\n",
            "[CV] END ..max_depth=10, max_features=sqrt, n_estimators=200; total time=   3.3s\n",
            "[CV] END ..max_depth=10, max_features=sqrt, n_estimators=200; total time=   3.5s\n",
            "[CV] END ..max_depth=10, max_features=sqrt, n_estimators=200; total time=   3.9s\n",
            "[CV] END ..max_depth=10, max_features=log2, n_estimators=200; total time=   3.5s\n",
            "[CV] END ..max_depth=10, max_features=log2, n_estimators=200; total time=   3.6s\n",
            "[CV] END ...max_depth=12, max_features=sqrt, n_estimators=10; total time=   0.2s\n",
            "[CV] END ...max_depth=12, max_features=sqrt, n_estimators=10; total time=   0.2s\n",
            "[CV] END ..max_depth=10, max_features=log2, n_estimators=200; total time=   3.8s\n",
            "[CV] END ...max_depth=12, max_features=sqrt, n_estimators=10; total time=   0.2s\n",
            "[CV] END ...max_depth=10, max_features=None, n_estimators=50; total time=   3.4s\n",
            "[CV] END ...max_depth=12, max_features=sqrt, n_estimators=50; total time=   0.9s\n",
            "[CV] END ...max_depth=10, max_features=None, n_estimators=50; total time=   3.8s\n",
            "[CV] END ...max_depth=12, max_features=sqrt, n_estimators=50; total time=   1.0s\n",
            "[CV] END ...max_depth=10, max_features=None, n_estimators=50; total time=   3.8s\n",
            "[CV] END ...max_depth=12, max_features=sqrt, n_estimators=50; total time=   1.3s\n",
            "[CV] END ..max_depth=12, max_features=sqrt, n_estimators=100; total time=   1.8s\n",
            "[CV] END ..max_depth=12, max_features=sqrt, n_estimators=100; total time=   1.7s\n",
            "[CV] END ..max_depth=12, max_features=sqrt, n_estimators=100; total time=   2.1s\n",
            "[CV] END ...max_depth=12, max_features=log2, n_estimators=10; total time=   0.2s\n",
            "[CV] END ...max_depth=12, max_features=log2, n_estimators=10; total time=   0.2s\n",
            "[CV] END ...max_depth=12, max_features=log2, n_estimators=10; total time=   0.2s\n",
            "[CV] END ...max_depth=12, max_features=log2, n_estimators=50; total time=   0.9s\n",
            "[CV] END ...max_depth=12, max_features=log2, n_estimators=50; total time=   0.9s\n",
            "[CV] END ...max_depth=12, max_features=log2, n_estimators=50; total time=   1.0s\n",
            "[CV] END ..max_depth=10, max_features=None, n_estimators=100; total time=   7.1s\n",
            "[CV] END ..max_depth=10, max_features=None, n_estimators=100; total time=   7.3s\n",
            "[CV] END ..max_depth=12, max_features=sqrt, n_estimators=200; total time=   4.0s\n",
            "[CV] END ..max_depth=12, max_features=sqrt, n_estimators=200; total time=   4.2s\n",
            "[CV] END ..max_depth=12, max_features=sqrt, n_estimators=200; total time=   4.2s\n",
            "[CV] END ..max_depth=10, max_features=None, n_estimators=100; total time=   8.3s\n",
            "[CV] END ..max_depth=12, max_features=log2, n_estimators=100; total time=   1.9s\n",
            "[CV] END ..max_depth=12, max_features=log2, n_estimators=100; total time=   2.0s\n",
            "[CV] END ..max_depth=12, max_features=log2, n_estimators=100; total time=   2.0s\n",
            "[CV] END ...max_depth=12, max_features=None, n_estimators=10; total time=   0.9s\n",
            "[CV] END ...max_depth=12, max_features=None, n_estimators=10; total time=   0.7s\n",
            "[CV] END ...max_depth=12, max_features=None, n_estimators=10; total time=   1.2s\n",
            "[CV] END ..max_depth=12, max_features=log2, n_estimators=200; total time=   4.1s\n",
            "[CV] END ..max_depth=12, max_features=log2, n_estimators=200; total time=   3.9s\n",
            "[CV] END ..max_depth=12, max_features=log2, n_estimators=200; total time=   4.1s\n",
            "[CV] END ...max_depth=12, max_features=None, n_estimators=50; total time=   3.4s\n",
            "[CV] END .max_depth=None, max_features=sqrt, n_estimators=10; total time=   0.2s\n",
            "[CV] END .max_depth=None, max_features=sqrt, n_estimators=10; total time=   0.2s\n",
            "[CV] END ...max_depth=12, max_features=None, n_estimators=50; total time=   4.1s\n",
            "[CV] END .max_depth=None, max_features=sqrt, n_estimators=10; total time=   0.2s\n",
            "[CV] END ...max_depth=12, max_features=None, n_estimators=50; total time=   4.4s\n",
            "[CV] END .max_depth=None, max_features=sqrt, n_estimators=50; total time=   1.2s\n",
            "[CV] END .max_depth=None, max_features=sqrt, n_estimators=50; total time=   1.1s\n",
            "[CV] END .max_depth=None, max_features=sqrt, n_estimators=50; total time=   1.1s\n",
            "[CV] END max_depth=None, max_features=sqrt, n_estimators=100; total time=   2.1s\n",
            "[CV] END max_depth=None, max_features=sqrt, n_estimators=100; total time=   2.4s\n",
            "[CV] END ..max_depth=10, max_features=None, n_estimators=200; total time=  15.5s\n",
            "[CV] END max_depth=None, max_features=sqrt, n_estimators=100; total time=   2.4s\n",
            "[CV] END ..max_depth=10, max_features=None, n_estimators=200; total time=  15.2s\n",
            "[CV] END .max_depth=None, max_features=log2, n_estimators=10; total time=   0.3s\n",
            "[CV] END .max_depth=None, max_features=log2, n_estimators=10; total time=   0.3s\n",
            "[CV] END ..max_depth=10, max_features=None, n_estimators=200; total time=  15.9s\n",
            "[CV] END .max_depth=None, max_features=log2, n_estimators=10; total time=   0.3s\n",
            "[CV] END ..max_depth=12, max_features=None, n_estimators=100; total time=   8.3s\n",
            "[CV] END ..max_depth=12, max_features=None, n_estimators=100; total time=   8.3s\n",
            "[CV] END ..max_depth=12, max_features=None, n_estimators=100; total time=   9.0s\n",
            "[CV] END .max_depth=None, max_features=log2, n_estimators=50; total time=   1.2s\n",
            "[CV] END .max_depth=None, max_features=log2, n_estimators=50; total time=   1.3s\n",
            "[CV] END .max_depth=None, max_features=log2, n_estimators=50; total time=   1.3s\n",
            "[CV] END max_depth=None, max_features=log2, n_estimators=100; total time=   2.3s\n",
            "[CV] END max_depth=None, max_features=log2, n_estimators=100; total time=   2.9s\n",
            "[CV] END max_depth=None, max_features=log2, n_estimators=100; total time=   2.7s\n",
            "[CV] END .max_depth=None, max_features=None, n_estimators=10; total time=   1.1s\n",
            "[CV] END max_depth=None, max_features=sqrt, n_estimators=200; total time=   4.9s\n",
            "[CV] END max_depth=None, max_features=sqrt, n_estimators=200; total time=   4.5s\n",
            "[CV] END .max_depth=None, max_features=None, n_estimators=10; total time=   0.9s\n",
            "[CV] END .max_depth=None, max_features=None, n_estimators=10; total time=   0.8s\n",
            "[CV] END max_depth=None, max_features=sqrt, n_estimators=200; total time=   5.3s\n",
            "[CV] END max_depth=None, max_features=log2, n_estimators=200; total time=   4.9s\n",
            "[CV] END max_depth=None, max_features=log2, n_estimators=200; total time=   5.1s\n",
            "[CV] END max_depth=None, max_features=log2, n_estimators=200; total time=   5.6s\n",
            "[CV] END .max_depth=None, max_features=None, n_estimators=50; total time=   4.6s\n",
            "[CV] END .max_depth=None, max_features=None, n_estimators=50; total time=   4.8s\n",
            "[CV] END .max_depth=None, max_features=None, n_estimators=50; total time=   4.9s\n",
            "[CV] END ...max_depth=15, max_features=sqrt, n_estimators=10; total time=   0.3s\n",
            "[CV] END ...max_depth=15, max_features=sqrt, n_estimators=10; total time=   0.3s\n",
            "[CV] END ...max_depth=15, max_features=sqrt, n_estimators=10; total time=   0.2s\n",
            "[CV] END ...max_depth=15, max_features=sqrt, n_estimators=50; total time=   1.0s\n",
            "[CV] END ...max_depth=15, max_features=sqrt, n_estimators=50; total time=   1.2s\n",
            "[CV] END ...max_depth=15, max_features=sqrt, n_estimators=50; total time=   1.3s\n",
            "[CV] END ..max_depth=12, max_features=None, n_estimators=200; total time=  16.8s\n",
            "[CV] END ..max_depth=12, max_features=None, n_estimators=200; total time=  17.2s\n",
            "[CV] END ..max_depth=15, max_features=sqrt, n_estimators=100; total time=   2.3s\n",
            "[CV] END ..max_depth=15, max_features=sqrt, n_estimators=100; total time=   2.3s\n",
            "[CV] END ..max_depth=12, max_features=None, n_estimators=200; total time=  18.0s\n",
            "[CV] END ..max_depth=15, max_features=sqrt, n_estimators=100; total time=   2.4s\n",
            "[CV] END ...max_depth=15, max_features=log2, n_estimators=10; total time=   0.2s\n",
            "[CV] END ...max_depth=15, max_features=log2, n_estimators=10; total time=   0.2s\n",
            "[CV] END ...max_depth=15, max_features=log2, n_estimators=10; total time=   0.2s\n",
            "[CV] END max_depth=None, max_features=None, n_estimators=100; total time=   8.5s\n",
            "[CV] END max_depth=None, max_features=None, n_estimators=100; total time=   8.9s\n",
            "[CV] END ...max_depth=15, max_features=log2, n_estimators=50; total time=   1.0s\n",
            "[CV] END max_depth=None, max_features=None, n_estimators=100; total time=   9.7s\n",
            "[CV] END ...max_depth=15, max_features=log2, n_estimators=50; total time=   1.2s\n",
            "[CV] END ...max_depth=15, max_features=log2, n_estimators=50; total time=   1.1s\n",
            "[CV] END ..max_depth=15, max_features=log2, n_estimators=100; total time=   2.1s\n",
            "[CV] END ..max_depth=15, max_features=log2, n_estimators=100; total time=   2.5s\n",
            "[CV] END ..max_depth=15, max_features=log2, n_estimators=100; total time=   2.2s\n",
            "[CV] END ..max_depth=15, max_features=sqrt, n_estimators=200; total time=   4.8s\n",
            "[CV] END ...max_depth=15, max_features=None, n_estimators=10; total time=   1.0s\n",
            "[CV] END ...max_depth=15, max_features=None, n_estimators=10; total time=   1.1s\n",
            "[CV] END ..max_depth=15, max_features=sqrt, n_estimators=200; total time=   4.7s\n",
            "[CV] END ..max_depth=15, max_features=sqrt, n_estimators=200; total time=   4.3s\n",
            "[CV] END ...max_depth=15, max_features=None, n_estimators=10; total time=   0.9s\n",
            "[CV] END ..max_depth=15, max_features=log2, n_estimators=200; total time=   4.4s\n",
            "[CV] END ..max_depth=15, max_features=log2, n_estimators=200; total time=   4.7s\n",
            "[CV] END ..max_depth=15, max_features=log2, n_estimators=200; total time=   4.9s\n",
            "[CV] END ...max_depth=15, max_features=None, n_estimators=50; total time=   4.2s\n",
            "[CV] END ...max_depth=20, max_features=sqrt, n_estimators=10; total time=   0.2s\n",
            "[CV] END ...max_depth=15, max_features=None, n_estimators=50; total time=   4.5s\n",
            "[CV] END ...max_depth=20, max_features=sqrt, n_estimators=10; total time=   0.2s\n",
            "[CV] END ...max_depth=15, max_features=None, n_estimators=50; total time=   4.9s\n",
            "[CV] END ...max_depth=20, max_features=sqrt, n_estimators=10; total time=   0.3s\n",
            "[CV] END ...max_depth=20, max_features=sqrt, n_estimators=50; total time=   1.3s\n",
            "[CV] END ...max_depth=20, max_features=sqrt, n_estimators=50; total time=   1.3s\n",
            "[CV] END ...max_depth=20, max_features=sqrt, n_estimators=50; total time=   1.3s\n",
            "[CV] END max_depth=None, max_features=None, n_estimators=200; total time=  17.3s\n",
            "[CV] END max_depth=None, max_features=None, n_estimators=200; total time=  18.6s\n",
            "[CV] END ..max_depth=20, max_features=sqrt, n_estimators=100; total time=   2.2s\n",
            "[CV] END ..max_depth=20, max_features=sqrt, n_estimators=100; total time=   2.5s\n",
            "[CV] END ..max_depth=20, max_features=sqrt, n_estimators=100; total time=   2.5s\n",
            "[CV] END ...max_depth=20, max_features=log2, n_estimators=10; total time=   0.2s\n",
            "[CV] END ...max_depth=20, max_features=log2, n_estimators=10; total time=   0.3s\n",
            "[CV] END ...max_depth=20, max_features=log2, n_estimators=10; total time=   0.2s\n",
            "[CV] END ..max_depth=15, max_features=None, n_estimators=100; total time=   8.7s\n",
            "[CV] END ..max_depth=15, max_features=None, n_estimators=100; total time=   9.3s\n",
            "[CV] END ..max_depth=15, max_features=None, n_estimators=100; total time=   9.6s\n",
            "[CV] END max_depth=None, max_features=None, n_estimators=200; total time=  19.7s\n",
            "[CV] END ...max_depth=20, max_features=log2, n_estimators=50; total time=   1.2s\n",
            "[CV] END ...max_depth=20, max_features=log2, n_estimators=50; total time=   1.1s\n",
            "[CV] END ...max_depth=20, max_features=log2, n_estimators=50; total time=   1.3s\n",
            "[CV] END ..max_depth=20, max_features=log2, n_estimators=100; total time=   2.4s\n",
            "[CV] END ..max_depth=20, max_features=log2, n_estimators=100; total time=   2.4s\n",
            "[CV] END ..max_depth=20, max_features=log2, n_estimators=100; total time=   2.5s\n",
            "[CV] END ..max_depth=20, max_features=sqrt, n_estimators=200; total time=   5.2s\n",
            "[CV] END ...max_depth=20, max_features=None, n_estimators=10; total time=   1.0s\n",
            "[CV] END ..max_depth=20, max_features=sqrt, n_estimators=200; total time=   4.8s\n",
            "[CV] END ...max_depth=20, max_features=None, n_estimators=10; total time=   0.9s\n",
            "[CV] END ...max_depth=20, max_features=None, n_estimators=10; total time=   0.9s\n",
            "[CV] END ..max_depth=20, max_features=sqrt, n_estimators=200; total time=   5.0s\n",
            "[CV] END ..max_depth=20, max_features=log2, n_estimators=200; total time=   4.4s\n",
            "[CV] END ..max_depth=20, max_features=log2, n_estimators=200; total time=   4.7s\n",
            "[CV] END ..max_depth=20, max_features=log2, n_estimators=200; total time=   5.0s\n",
            "[CV] END ...max_depth=20, max_features=None, n_estimators=50; total time=   4.2s\n",
            "[CV] END ...max_depth=20, max_features=None, n_estimators=50; total time=   4.4s\n",
            "[CV] END ...max_depth=20, max_features=None, n_estimators=50; total time=   5.0s\n",
            "[CV] END ..max_depth=15, max_features=None, n_estimators=200; total time=  16.9s\n",
            "[CV] END ..max_depth=15, max_features=None, n_estimators=200; total time=  18.0s\n",
            "[CV] END ..max_depth=15, max_features=None, n_estimators=200; total time=  18.7s\n",
            "[CV] END ..max_depth=20, max_features=None, n_estimators=100; total time=   8.5s\n",
            "[CV] END ..max_depth=20, max_features=None, n_estimators=100; total time=   8.6s\n",
            "[CV] END ..max_depth=20, max_features=None, n_estimators=100; total time=   8.2s\n",
            "[CV] END ..max_depth=20, max_features=None, n_estimators=200; total time=  12.8s\n",
            "[CV] END ..max_depth=20, max_features=None, n_estimators=200; total time=  14.1s\n",
            "[CV] END ..max_depth=20, max_features=None, n_estimators=200; total time=  14.0s\n",
            "Fitting 3 folds for each of 40 candidates, totalling 120 fits\n",
            "[CV] END ....algorithm=auto, n_neighbors=3, weights=distance; total time=   0.6s\n",
            "[CV] END ....algorithm=auto, n_neighbors=3, weights=distance; total time=   0.6s\n",
            "[CV] END ....algorithm=auto, n_neighbors=3, weights=distance; total time=   0.6s\n",
            "[CV] END .....algorithm=auto, n_neighbors=3, weights=uniform; total time=   0.7s\n",
            "[CV] END .....algorithm=auto, n_neighbors=3, weights=uniform; total time=   0.7s\n",
            "[CV] END ....algorithm=auto, n_neighbors=4, weights=distance; total time=   0.7s\n",
            "[CV] END .....algorithm=auto, n_neighbors=3, weights=uniform; total time=   0.8s\n",
            "[CV] END ....algorithm=auto, n_neighbors=4, weights=distance; total time=   0.8s\n",
            "[CV] END .....algorithm=auto, n_neighbors=4, weights=uniform; total time=   0.8s\n",
            "[CV] END ....algorithm=auto, n_neighbors=4, weights=distance; total time=   0.8s\n",
            "[CV] END .....algorithm=auto, n_neighbors=4, weights=uniform; total time=   0.8s\n",
            "[CV] END .....algorithm=auto, n_neighbors=4, weights=uniform; total time=   0.9s\n",
            "[CV] END .....algorithm=auto, n_neighbors=5, weights=uniform; total time=   0.6s\n",
            "[CV] END ....algorithm=auto, n_neighbors=5, weights=distance; total time=   0.6s\n",
            "[CV] END ....algorithm=auto, n_neighbors=5, weights=distance; total time=   0.7s\n",
            "[CV] END .....algorithm=auto, n_neighbors=5, weights=uniform; total time=   0.8s\n",
            "[CV] END ....algorithm=auto, n_neighbors=5, weights=distance; total time=   0.7s\n",
            "[CV] END .....algorithm=auto, n_neighbors=5, weights=uniform; total time=   0.9s\n",
            "[CV] END .....algorithm=auto, n_neighbors=7, weights=uniform; total time=   0.7s\n",
            "[CV] END ....algorithm=auto, n_neighbors=7, weights=distance; total time=   0.7s\n",
            "[CV] END .....algorithm=auto, n_neighbors=7, weights=uniform; total time=   0.8s\n",
            "[CV] END ....algorithm=auto, n_neighbors=7, weights=distance; total time=   0.8s\n",
            "[CV] END ....algorithm=auto, n_neighbors=7, weights=distance; total time=   0.7s\n",
            "[CV] END .....algorithm=auto, n_neighbors=7, weights=uniform; total time=   1.0s\n",
            "[CV] END .....algorithm=auto, n_neighbors=9, weights=uniform; total time=   0.6s\n",
            "[CV] END .....algorithm=auto, n_neighbors=9, weights=uniform; total time=   0.6s\n",
            "[CV] END .....algorithm=auto, n_neighbors=9, weights=uniform; total time=   0.5s\n",
            "[CV] END ....algorithm=auto, n_neighbors=9, weights=distance; total time=   0.6s\n",
            "[CV] END ....algorithm=auto, n_neighbors=9, weights=distance; total time=   0.8s\n",
            "[CV] END ....algorithm=auto, n_neighbors=9, weights=distance; total time=   0.8s\n",
            "[CV] END algorithm=ball_tree, n_neighbors=3, weights=uniform; total time=   9.6s\n",
            "[CV] END algorithm=ball_tree, n_neighbors=3, weights=distance; total time=   9.7s\n",
            "[CV] END algorithm=ball_tree, n_neighbors=4, weights=uniform; total time=   9.5s\n",
            "[CV] END algorithm=ball_tree, n_neighbors=3, weights=distance; total time=   9.9s\n",
            "[CV] END algorithm=ball_tree, n_neighbors=3, weights=uniform; total time=  10.1s\n",
            "[CV] END algorithm=ball_tree, n_neighbors=3, weights=distance; total time=  10.1s\n",
            "[CV] END algorithm=ball_tree, n_neighbors=3, weights=uniform; total time=  10.4s\n",
            "[CV] END algorithm=ball_tree, n_neighbors=4, weights=uniform; total time=  10.5s\n",
            "[CV] END algorithm=ball_tree, n_neighbors=4, weights=distance; total time=  10.9s\n",
            "[CV] END algorithm=ball_tree, n_neighbors=4, weights=uniform; total time=  11.3s\n",
            "[CV] END algorithm=ball_tree, n_neighbors=4, weights=distance; total time=  11.3s\n",
            "[CV] END algorithm=ball_tree, n_neighbors=4, weights=distance; total time=  11.5s\n",
            "[CV] END algorithm=ball_tree, n_neighbors=5, weights=uniform; total time=  10.6s\n",
            "[CV] END algorithm=ball_tree, n_neighbors=5, weights=distance; total time=  10.5s\n",
            "[CV] END algorithm=ball_tree, n_neighbors=5, weights=uniform; total time=  11.4s\n",
            "[CV] END algorithm=ball_tree, n_neighbors=5, weights=uniform; total time=  11.9s\n",
            "[CV] END algorithm=ball_tree, n_neighbors=5, weights=distance; total time=  11.4s\n",
            "[CV] END algorithm=ball_tree, n_neighbors=5, weights=distance; total time=  11.7s\n",
            "[CV] END algorithm=ball_tree, n_neighbors=7, weights=uniform; total time=  11.5s\n",
            "[CV] END algorithm=ball_tree, n_neighbors=7, weights=distance; total time=  10.9s\n",
            "[CV] END algorithm=ball_tree, n_neighbors=7, weights=uniform; total time=  12.0s\n",
            "[CV] END algorithm=ball_tree, n_neighbors=7, weights=distance; total time=  11.4s\n",
            "[CV] END algorithm=ball_tree, n_neighbors=7, weights=distance; total time=  11.2s\n",
            "[CV] END algorithm=ball_tree, n_neighbors=7, weights=uniform; total time=  12.3s\n",
            "[CV] END ..algorithm=kd_tree, n_neighbors=3, weights=uniform; total time=   2.0s\n",
            "[CV] END ..algorithm=kd_tree, n_neighbors=3, weights=uniform; total time=   1.8s\n",
            "[CV] END ..algorithm=kd_tree, n_neighbors=3, weights=uniform; total time=   1.8s\n",
            "[CV] END .algorithm=kd_tree, n_neighbors=3, weights=distance; total time=   1.9s\n",
            "[CV] END .algorithm=kd_tree, n_neighbors=3, weights=distance; total time=   2.0s\n",
            "[CV] END .algorithm=kd_tree, n_neighbors=3, weights=distance; total time=   1.9s\n",
            "[CV] END ..algorithm=kd_tree, n_neighbors=4, weights=uniform; total time=   2.0s\n",
            "[CV] END ..algorithm=kd_tree, n_neighbors=4, weights=uniform; total time=   2.6s\n",
            "[CV] END ..algorithm=kd_tree, n_neighbors=4, weights=uniform; total time=   2.3s\n",
            "[CV] END .algorithm=kd_tree, n_neighbors=4, weights=distance; total time=   2.3s\n",
            "[CV] END .algorithm=kd_tree, n_neighbors=4, weights=distance; total time=   2.1s\n",
            "[CV] END .algorithm=kd_tree, n_neighbors=4, weights=distance; total time=   2.6s\n",
            "[CV] END ..algorithm=kd_tree, n_neighbors=5, weights=uniform; total time=   3.7s\n",
            "[CV] END ..algorithm=kd_tree, n_neighbors=5, weights=uniform; total time=   3.9s\n",
            "[CV] END ..algorithm=kd_tree, n_neighbors=5, weights=uniform; total time=   4.1s\n",
            "[CV] END .algorithm=kd_tree, n_neighbors=5, weights=distance; total time=   3.1s\n",
            "[CV] END .algorithm=kd_tree, n_neighbors=5, weights=distance; total time=   3.7s\n",
            "[CV] END algorithm=ball_tree, n_neighbors=9, weights=uniform; total time=  11.6s\n",
            "[CV] END .algorithm=kd_tree, n_neighbors=5, weights=distance; total time=   5.1s\n",
            "[CV] END algorithm=ball_tree, n_neighbors=9, weights=uniform; total time=  12.3s\n",
            "[CV] END algorithm=ball_tree, n_neighbors=9, weights=uniform; total time=  12.7s\n",
            "[CV] END algorithm=ball_tree, n_neighbors=9, weights=distance; total time=  12.3s\n",
            "[CV] END ..algorithm=kd_tree, n_neighbors=7, weights=uniform; total time=   3.9s\n",
            "[CV] END algorithm=ball_tree, n_neighbors=9, weights=distance; total time=  12.8s\n",
            "[CV] END .algorithm=kd_tree, n_neighbors=7, weights=distance; total time=   3.5s\n",
            "[CV] END ..algorithm=kd_tree, n_neighbors=7, weights=uniform; total time=   4.7s\n",
            "[CV] END algorithm=ball_tree, n_neighbors=9, weights=distance; total time=  13.2s\n",
            "[CV] END ..algorithm=kd_tree, n_neighbors=7, weights=uniform; total time=   4.0s\n",
            "[CV] END ....algorithm=brute, n_neighbors=3, weights=uniform; total time=   0.5s\n",
            "[CV] END .algorithm=kd_tree, n_neighbors=7, weights=distance; total time=   4.2s\n",
            "[CV] END .algorithm=kd_tree, n_neighbors=7, weights=distance; total time=   3.5s\n",
            "[CV] END ...algorithm=brute, n_neighbors=3, weights=distance; total time=   0.5s\n",
            "[CV] END ....algorithm=brute, n_neighbors=3, weights=uniform; total time=   0.9s\n",
            "[CV] END ...algorithm=brute, n_neighbors=3, weights=distance; total time=   0.9s\n",
            "[CV] END ....algorithm=brute, n_neighbors=3, weights=uniform; total time=   1.0s\n",
            "[CV] END ....algorithm=brute, n_neighbors=4, weights=uniform; total time=   0.6s\n",
            "[CV] END ...algorithm=brute, n_neighbors=3, weights=distance; total time=   0.9s\n",
            "[CV] END ....algorithm=brute, n_neighbors=4, weights=uniform; total time=   0.5s\n",
            "[CV] END ..algorithm=kd_tree, n_neighbors=9, weights=uniform; total time=   3.8s\n",
            "[CV] END ...algorithm=brute, n_neighbors=4, weights=distance; total time=   0.6s\n",
            "[CV] END ..algorithm=kd_tree, n_neighbors=9, weights=uniform; total time=   4.0s\n",
            "[CV] END ....algorithm=brute, n_neighbors=4, weights=uniform; total time=   0.8s\n",
            "[CV] END ...algorithm=brute, n_neighbors=4, weights=distance; total time=   0.8s\n",
            "[CV] END ....algorithm=brute, n_neighbors=5, weights=uniform; total time=   0.5s\n",
            "[CV] END ...algorithm=brute, n_neighbors=4, weights=distance; total time=   1.1s\n",
            "[CV] END .algorithm=kd_tree, n_neighbors=9, weights=distance; total time=   3.3s\n",
            "[CV] END ....algorithm=brute, n_neighbors=5, weights=uniform; total time=   0.9s\n",
            "[CV] END .algorithm=kd_tree, n_neighbors=9, weights=distance; total time=   3.2s\n",
            "[CV] END ...algorithm=brute, n_neighbors=5, weights=distance; total time=   0.8s\n",
            "[CV] END ...algorithm=brute, n_neighbors=5, weights=distance; total time=   0.9s\n",
            "[CV] END ....algorithm=brute, n_neighbors=7, weights=uniform; total time=   0.6s\n",
            "[CV] END ...algorithm=brute, n_neighbors=5, weights=distance; total time=   0.9s\n",
            "[CV] END ....algorithm=brute, n_neighbors=5, weights=uniform; total time=   1.1s\n",
            "[CV] END ..algorithm=kd_tree, n_neighbors=9, weights=uniform; total time=   4.1s\n",
            "[CV] END ...algorithm=brute, n_neighbors=7, weights=distance; total time=   0.7s\n",
            "[CV] END ....algorithm=brute, n_neighbors=7, weights=uniform; total time=   0.9s\n",
            "[CV] END ....algorithm=brute, n_neighbors=7, weights=uniform; total time=   1.1s\n",
            "[CV] END .algorithm=kd_tree, n_neighbors=9, weights=distance; total time=   3.3s\n",
            "[CV] END ...algorithm=brute, n_neighbors=7, weights=distance; total time=   0.7s\n",
            "[CV] END ...algorithm=brute, n_neighbors=7, weights=distance; total time=   0.8s\n",
            "[CV] END ....algorithm=brute, n_neighbors=9, weights=uniform; total time=   0.6s\n",
            "[CV] END ....algorithm=brute, n_neighbors=9, weights=uniform; total time=   0.7s\n",
            "[CV] END ....algorithm=brute, n_neighbors=9, weights=uniform; total time=   0.7s\n",
            "[CV] END ...algorithm=brute, n_neighbors=9, weights=distance; total time=   0.6s\n",
            "[CV] END ...algorithm=brute, n_neighbors=9, weights=distance; total time=   0.7s\n",
            "[CV] END ...algorithm=brute, n_neighbors=9, weights=distance; total time=   0.6s\n",
            "---------------- Best Params for XGBoost -------------------\n",
            "{'min_child_weight': 1, 'max_depth': 9}\n",
            "---------------- Best Params for RF -------------------\n",
            "{'n_estimators': 200, 'max_features': 'log2', 'max_depth': None}\n",
            "---------------- Best Params for KNN -------------------\n",
            "{'weights': 'distance', 'n_neighbors': 4, 'algorithm': 'auto'}\n"
          ]
        }
      ],
      "source": [
        "from sklearn.model_selection import RandomizedSearchCV\n",
        "\n",
        "model_param = {}\n",
        "for name, model, params in randomcv_models:\n",
        "    random = RandomizedSearchCV(estimator=model,\n",
        "                                   param_distributions=params,\n",
        "                                   n_iter=100,\n",
        "                                   cv=3,\n",
        "                                   verbose=2, \n",
        "                                   n_jobs=-1)\n",
        "    random.fit(X_res, y_res)\n",
        "    model_param[name] = random.best_params_\n",
        "\n",
        "for model_name in model_param:\n",
        "    print(f\"---------------- Best Params for {model_name} -------------------\")\n",
        "    print(model_param[model_name])"
      ]
    },
    {
      "cell_type": "code",
      "execution_count": 43,
      "id": "83b5de27",
      "metadata": {},
      "outputs": [
        {
          "data": {
            "text/plain": [
              "{'XGBoost': {'min_child_weight': 1, 'max_depth': 9},\n",
              " 'RF': {'n_estimators': 200, 'max_features': 'log2', 'max_depth': None},\n",
              " 'KNN': {'weights': 'distance', 'n_neighbors': 4, 'algorithm': 'auto'}}"
            ]
          },
          "execution_count": 43,
          "metadata": {},
          "output_type": "execute_result"
        }
      ],
      "source": [
        "model_param"
      ]
    },
    {
      "cell_type": "markdown",
      "id": "616ebc0a",
      "metadata": {
        "id": "616ebc0a"
      },
      "source": [
        "## Retraining the Model with best Parameters"
      ]
    },
    {
      "cell_type": "code",
      "execution_count": 44,
      "id": "5738ae2c",
      "metadata": {
        "id": "5738ae2c",
        "outputId": "25600fb4-c963-4bf7-ba2c-d02cf4d5962e"
      },
      "outputs": [
        {
          "name": "stdout",
          "output_type": "stream",
          "text": [
            "Random Forest Classifier\n",
            "Model performance for Training set\n",
            "- Accuracy: 1.0000\n",
            "- F1 score: 1.0000\n",
            "- Precision: 1.0000\n",
            "- Recall: 1.0000\n",
            "- Roc Auc Score: 1.0000\n",
            "----------------------------------\n",
            "Model performance for Test set\n",
            "- Accuracy: 0.9513\n",
            "- F1 score: 0.9552\n",
            "- Precision: 0.9490\n",
            "- Recall: 0.9614\n",
            "- Roc Auc Score: 0.9504\n",
            "===================================\n",
            "\n",
            "\n",
            "KNeighborsClassifier\n",
            "Model performance for Training set\n",
            "- Accuracy: 1.0000\n",
            "- F1 score: 1.0000\n",
            "- Precision: 1.0000\n",
            "- Recall: 1.0000\n",
            "- Roc Auc Score: 1.0000\n",
            "----------------------------------\n",
            "Model performance for Test set\n",
            "- Accuracy: 0.9683\n",
            "- F1 score: 0.9711\n",
            "- Precision: 0.9577\n",
            "- Recall: 0.9848\n",
            "- Roc Auc Score: 0.9669\n",
            "===================================\n",
            "\n",
            "\n",
            "XGBClassifier\n",
            "Model performance for Training set\n",
            "- Accuracy: 0.9993\n",
            "- F1 score: 0.9993\n",
            "- Precision: 0.9986\n",
            "- Recall: 1.0000\n",
            "- Roc Auc Score: 0.9992\n",
            "----------------------------------\n",
            "Model performance for Test set\n",
            "- Accuracy: 0.9457\n",
            "- F1 score: 0.9499\n",
            "- Precision: 0.9475\n",
            "- Recall: 0.9522\n",
            "- Roc Auc Score: 0.9452\n",
            "===================================\n",
            "\n",
            "\n"
          ]
        }
      ],
      "source": [
        "from sklearn.metrics import roc_auc_score,roc_curve\n",
        "best_models = {\n",
        "    \"Random Forest Classifier\": RandomForestClassifier(**model_param['RF']),\n",
        "    \"KNeighborsClassifier\": KNeighborsClassifier(**model_param['KNN']),\n",
        "    \"XGBClassifier\": XGBClassifier(**model_param['XGBoost'],n_jobs=-1),\n",
        "}\n",
        "tuned_report =evaluate_models(X=X_res, y=y_res, models=best_models)"
      ]
    },
    {
      "cell_type": "code",
      "execution_count": 45,
      "id": "3ebcc3e2",
      "metadata": {
        "id": "3ebcc3e2",
        "outputId": "870a295b-85c5-4204-cb8f-178bc6ccd9a6"
      },
      "outputs": [
        {
          "data": {
            "text/html": [
              "<div>\n",
              "<style scoped>\n",
              "    .dataframe tbody tr th:only-of-type {\n",
              "        vertical-align: middle;\n",
              "    }\n",
              "\n",
              "    .dataframe tbody tr th {\n",
              "        vertical-align: top;\n",
              "    }\n",
              "\n",
              "    .dataframe thead th {\n",
              "        text-align: right;\n",
              "    }\n",
              "</style>\n",
              "<table border=\"1\" class=\"dataframe\">\n",
              "  <thead>\n",
              "    <tr style=\"text-align: right;\">\n",
              "      <th></th>\n",
              "      <th>Model Name</th>\n",
              "      <th>Accuracy</th>\n",
              "    </tr>\n",
              "  </thead>\n",
              "  <tbody>\n",
              "    <tr>\n",
              "      <th>1</th>\n",
              "      <td>KNeighborsClassifier</td>\n",
              "      <td>0.968310</td>\n",
              "    </tr>\n",
              "    <tr>\n",
              "      <th>0</th>\n",
              "      <td>Random Forest Classifier</td>\n",
              "      <td>0.951291</td>\n",
              "    </tr>\n",
              "    <tr>\n",
              "      <th>2</th>\n",
              "      <td>XGBClassifier</td>\n",
              "      <td>0.945716</td>\n",
              "    </tr>\n",
              "  </tbody>\n",
              "</table>\n",
              "</div>"
            ],
            "text/plain": [
              "                 Model Name  Accuracy\n",
              "1      KNeighborsClassifier  0.968310\n",
              "0  Random Forest Classifier  0.951291\n",
              "2             XGBClassifier  0.945716"
            ]
          },
          "execution_count": 45,
          "metadata": {},
          "output_type": "execute_result"
        }
      ],
      "source": [
        "tuned_report"
      ]
    },
    {
      "cell_type": "code",
      "execution_count": 47,
      "id": "a4beb9bb",
      "metadata": {
        "id": "a4beb9bb",
        "outputId": "fde92afe-af72-428a-e4d9-d44a094b28ad"
      },
      "outputs": [
        {
          "name": "stdout",
          "output_type": "stream",
          "text": [
            "FINAL MODEL 'KNN'\n",
            "Accuracy Score value: 0.9683\n",
            "              precision    recall  f1-score   support\n",
            "\n",
            "           0       0.98      0.95      0.96      1568\n",
            "           1       0.96      0.98      0.97      1840\n",
            "\n",
            "    accuracy                           0.97      3408\n",
            "   macro avg       0.97      0.97      0.97      3408\n",
            "weighted avg       0.97      0.97      0.97      3408\n",
            "\n"
          ]
        }
      ],
      "source": [
        "best_model = KNeighborsClassifier(**model_param['KNN'])\n",
        "best_model = best_model.fit(X_train,y_train)\n",
        "y_pred = best_model.predict(X_test)\n",
        "score = accuracy_score(y_test,y_pred)\n",
        "cr = classification_report(y_test,y_pred)\n",
        "\n",
        "print(\"FINAL MODEL 'KNN'\")\n",
        "print (\"Accuracy Score value: {:.4f}\".format(score))\n",
        "print (cr)"
      ]
    },
    {
      "cell_type": "code",
      "execution_count": 48,
      "id": "8bd89efe",
      "metadata": {
        "id": "8bd89efe",
        "outputId": "3078255a-0670-492a-8d4a-ab6aa891ef2f"
      },
      "outputs": [
        {
          "data": {
            "text/plain": [
              "<sklearn.metrics._plot.confusion_matrix.ConfusionMatrixDisplay at 0x7f5157066db0>"
            ]
          },
          "execution_count": 48,
          "metadata": {},
          "output_type": "execute_result"
        },
        {
          "data": {
            "image/png": "[encoded data removed]",
            "text/plain": [
              "<Figure size 640x480 with 2 Axes>"
            ]
          },
          "metadata": {},
          "output_type": "display_data"
        }
      ],
      "source": [
        "from sklearn.metrics import ConfusionMatrixDisplay\n",
        "ConfusionMatrixDisplay.from_estimator(best_model, X_test, y_test)"
      ]
    },
    {
      "cell_type": "markdown",
      "id": "84d34671",
      "metadata": {
        "id": "84d34671"
      },
      "source": [
        "## Best Model is K-Nearest Neighbor(KNN) with Accuracy 96.66%"
      ]
    }
  ],
  "metadata": {
    "colab": {
      "provenance": []
    },
    "kernelspec": {
      "display_name": "venv",
      "language": "python",
      "name": "python3"
    },
    "language_info": {
      "codemirror_mode": {
        "name": "ipython",
        "version": 3
      },
      "file_extension": ".py",
      "mimetype": "text/x-python",
      "name": "python",
      "nbconvert_exporter": "python",
      "pygments_lexer": "ipython3",
      "version": "3.12.2"
    }
  },
  "nbformat": 4,
  "nbformat_minor": 5
}
